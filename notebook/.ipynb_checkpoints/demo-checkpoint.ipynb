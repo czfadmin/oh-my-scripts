{
 "cells": [
  {
   "cell_type": "code",
   "execution_count": 7,
   "metadata": {},
   "outputs": [
    {
     "name": "stdout",
     "output_type": "stream",
     "text": [
      "<http.client.HTTPResponse object at 0x7fc03c684a30>\n"
     ]
    }
   ],
   "source": [
    "import os\n",
    "from bs4 import BeautifulSoup\n",
    "import urllib\n",
    "import http.cookiejar\n",
    "from urllib.request import Request\n",
    "login_url= \"https://tieba.baidu.com\"\n",
    "entry_url=\"https://tieba.baidu.com\"\n",
    "\n",
    "login_id_tag= \"loginid\"\n",
    "password_field_tag=\"username\"\n",
    "username=\"2849007069@qq.com\"\n",
    "password=\"\"\n",
    "HEADERS={\n",
    "\t'User-Agent':'Mozilla/5.0 (Windows NT 10.0; Win64; x64) AppleWebKit/537.36 (KHTML, like Gecko) Chrome/89.0.4375.0 Safari/537.36 Edg/89.0.756.0'\n",
    "}\n",
    "LOGIN_DATA={\n",
    "\t\"loginid\":username,\n",
    "\t\"password\":password\n",
    "}\n",
    "\n",
    "# 密码管理器\n",
    "pwd_manager=urllib.request.HTTPPasswordMgrWithDefaultRealm()\n",
    "pwd_manager.add_password(None,login_url ,username,password)\n",
    "\n",
    "# auth_handler\n",
    "auth_handler= urllib.request.HTTPBasicAuthHandler(pwd_manager)\n",
    "opener =urllib.request.build_opener(auth_handler,)\n",
    "# request= Request(login_url,headers=HEADERS)\n",
    "auth_response= opener.open(login_url)\n",
    "print(auth_response)\n",
    "\n",
    "#  使用Cookie\n",
    "cookie = http.cookiejar.CookieJar()\n",
    "handler= urllib.request.HTTPCookieProcessor(cookie)\n",
    "cookie_opener = urllib.request.build_opener(handler)\n",
    "cookie_response= cookie_opener.open(entry_url)\n",
    "\n",
    "with open(os.path.join(os.path.dirname(r'/home/vagrant/Project/repo/oh-my-scripts/notebook/demo.ipynb'),'cookie'),'w') as f:\n",
    "\tfor item in cookie:\n",
    "\t\tf.write(\"{0}={1}\\n\".format(item.name,item.value))\n",
    "\n",
    "\n",
    "\n"
   ]
  }
 ],
 "metadata": {
  "kernelspec": {
   "display_name": "Python 3",
   "language": "python",
   "name": "python3"
  },
  "language_info": {
   "codemirror_mode": {
    "name": "ipython",
    "version": 3
   },
   "file_extension": ".py",
   "mimetype": "text/x-python",
   "name": "python",
   "nbconvert_exporter": "python",
   "pygments_lexer": "ipython3",
   "version": "3.9.0"
  },
  "orig_nbformat": 2
 },
 "nbformat": 4,
 "nbformat_minor": 2
}