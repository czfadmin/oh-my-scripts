{
 "cells": [
  {
   "cell_type": "code",
   "execution_count": null,
   "source": [
    "import requests\n",
    "from bs4 import BeautifulSoup\n",
    "product_url=\"https://www.qualcomm.com/products/snapdragon-8-series-mobile-platforms\"\n",
    "response= requests.get(product_url)\n",
    "if response.ok:\n",
    "    content=BeautifulSoup( response.content)\n",
    "    "
   ],
   "outputs": [],
   "metadata": {}
  }
 ],
 "metadata": {
  "orig_nbformat": 4,
  "language_info": {
   "name": "python"
  }
 },
 "nbformat": 4,
 "nbformat_minor": 2
}